{
  "nbformat": 4,
  "nbformat_minor": 0,
  "metadata": {
    "colab": {
      "name": "lstm_stock_price.ipynb",
      "provenance": []
    },
    "kernelspec": {
      "name": "python3",
      "display_name": "Python 3"
    },
    "language_info": {
      "name": "python"
    }
  },
  "cells": [
    {
      "cell_type": "markdown",
      "source": [
        "### 2.Build a LSTM to predict the stock price for multivariate data(use multiple features).Use any online website or tiingo to get the dataset."
      ],
      "metadata": {
        "id": "WGEH9vB424VC"
      }
    },
    {
      "cell_type": "code",
      "execution_count": 117,
      "metadata": {
        "id": "1MXjykov6j0T"
      },
      "outputs": [],
      "source": [
        "import pandas_datareader as pdr\n",
        "import pandas as pd\n",
        "import warnings\n",
        "warnings.filterwarnings(\"ignore\")\n",
        "import numpy as np\n",
        "import matplotlib.pyplot as plt\n",
        "key=\"\"\n",
        "df = pdr.get_data_tiingo('AAPL', api_key=key)"
      ]
    },
    {
      "cell_type": "code",
      "source": [
        "df.to_csv('apple.csv')\n",
        "df.head()"
      ],
      "metadata": {
        "colab": {
          "base_uri": "https://localhost:8080/",
          "height": 238
        },
        "id": "2b7m1tUZ9jBx",
        "outputId": "ae42369c-fcbf-426f-cd4c-648c9a45f79f"
      },
      "execution_count": 118,
      "outputs": [
        {
          "output_type": "execute_result",
          "data": {
            "text/html": [
              "\n",
              "  <div id=\"df-0270dada-f503-46b1-a4b2-6f92d5e485df\">\n",
              "    <div class=\"colab-df-container\">\n",
              "      <div>\n",
              "<style scoped>\n",
              "    .dataframe tbody tr th:only-of-type {\n",
              "        vertical-align: middle;\n",
              "    }\n",
              "\n",
              "    .dataframe tbody tr th {\n",
              "        vertical-align: top;\n",
              "    }\n",
              "\n",
              "    .dataframe thead th {\n",
              "        text-align: right;\n",
              "    }\n",
              "</style>\n",
              "<table border=\"1\" class=\"dataframe\">\n",
              "  <thead>\n",
              "    <tr style=\"text-align: right;\">\n",
              "      <th></th>\n",
              "      <th></th>\n",
              "      <th>close</th>\n",
              "      <th>high</th>\n",
              "      <th>low</th>\n",
              "      <th>open</th>\n",
              "      <th>volume</th>\n",
              "      <th>adjClose</th>\n",
              "      <th>adjHigh</th>\n",
              "      <th>adjLow</th>\n",
              "      <th>adjOpen</th>\n",
              "      <th>adjVolume</th>\n",
              "      <th>divCash</th>\n",
              "      <th>splitFactor</th>\n",
              "    </tr>\n",
              "    <tr>\n",
              "      <th>symbol</th>\n",
              "      <th>date</th>\n",
              "      <th></th>\n",
              "      <th></th>\n",
              "      <th></th>\n",
              "      <th></th>\n",
              "      <th></th>\n",
              "      <th></th>\n",
              "      <th></th>\n",
              "      <th></th>\n",
              "      <th></th>\n",
              "      <th></th>\n",
              "      <th></th>\n",
              "      <th></th>\n",
              "    </tr>\n",
              "  </thead>\n",
              "  <tbody>\n",
              "    <tr>\n",
              "      <th rowspan=\"5\" valign=\"top\">AAPL</th>\n",
              "      <th>2017-01-13 00:00:00+00:00</th>\n",
              "      <td>119.04</td>\n",
              "      <td>119.62</td>\n",
              "      <td>118.8100</td>\n",
              "      <td>119.11</td>\n",
              "      <td>26111948</td>\n",
              "      <td>28.009183</td>\n",
              "      <td>28.145653</td>\n",
              "      <td>27.955066</td>\n",
              "      <td>28.025654</td>\n",
              "      <td>104447792</td>\n",
              "      <td>0.0</td>\n",
              "      <td>1.0</td>\n",
              "    </tr>\n",
              "    <tr>\n",
              "      <th>2017-01-17 00:00:00+00:00</th>\n",
              "      <td>120.00</td>\n",
              "      <td>120.24</td>\n",
              "      <td>118.2200</td>\n",
              "      <td>118.34</td>\n",
              "      <td>34439843</td>\n",
              "      <td>28.235064</td>\n",
              "      <td>28.291534</td>\n",
              "      <td>27.816243</td>\n",
              "      <td>27.844479</td>\n",
              "      <td>137759372</td>\n",
              "      <td>0.0</td>\n",
              "      <td>1.0</td>\n",
              "    </tr>\n",
              "    <tr>\n",
              "      <th>2017-01-18 00:00:00+00:00</th>\n",
              "      <td>119.99</td>\n",
              "      <td>120.50</td>\n",
              "      <td>119.7100</td>\n",
              "      <td>120.00</td>\n",
              "      <td>23712961</td>\n",
              "      <td>28.232711</td>\n",
              "      <td>28.352710</td>\n",
              "      <td>28.166829</td>\n",
              "      <td>28.235064</td>\n",
              "      <td>94851844</td>\n",
              "      <td>0.0</td>\n",
              "      <td>1.0</td>\n",
              "    </tr>\n",
              "    <tr>\n",
              "      <th>2017-01-19 00:00:00+00:00</th>\n",
              "      <td>119.78</td>\n",
              "      <td>120.09</td>\n",
              "      <td>119.3700</td>\n",
              "      <td>119.40</td>\n",
              "      <td>25597291</td>\n",
              "      <td>28.183299</td>\n",
              "      <td>28.256240</td>\n",
              "      <td>28.086830</td>\n",
              "      <td>28.093888</td>\n",
              "      <td>102389164</td>\n",
              "      <td>0.0</td>\n",
              "      <td>1.0</td>\n",
              "    </tr>\n",
              "    <tr>\n",
              "      <th>2017-01-20 00:00:00+00:00</th>\n",
              "      <td>120.00</td>\n",
              "      <td>120.45</td>\n",
              "      <td>119.7346</td>\n",
              "      <td>120.45</td>\n",
              "      <td>32597892</td>\n",
              "      <td>28.235064</td>\n",
              "      <td>28.340945</td>\n",
              "      <td>28.172617</td>\n",
              "      <td>28.340945</td>\n",
              "      <td>130391568</td>\n",
              "      <td>0.0</td>\n",
              "      <td>1.0</td>\n",
              "    </tr>\n",
              "  </tbody>\n",
              "</table>\n",
              "</div>\n",
              "      <button class=\"colab-df-convert\" onclick=\"convertToInteractive('df-0270dada-f503-46b1-a4b2-6f92d5e485df')\"\n",
              "              title=\"Convert this dataframe to an interactive table.\"\n",
              "              style=\"display:none;\">\n",
              "        \n",
              "  <svg xmlns=\"http://www.w3.org/2000/svg\" height=\"24px\"viewBox=\"0 0 24 24\"\n",
              "       width=\"24px\">\n",
              "    <path d=\"M0 0h24v24H0V0z\" fill=\"none\"/>\n",
              "    <path d=\"M18.56 5.44l.94 2.06.94-2.06 2.06-.94-2.06-.94-.94-2.06-.94 2.06-2.06.94zm-11 1L8.5 8.5l.94-2.06 2.06-.94-2.06-.94L8.5 2.5l-.94 2.06-2.06.94zm10 10l.94 2.06.94-2.06 2.06-.94-2.06-.94-.94-2.06-.94 2.06-2.06.94z\"/><path d=\"M17.41 7.96l-1.37-1.37c-.4-.4-.92-.59-1.43-.59-.52 0-1.04.2-1.43.59L10.3 9.45l-7.72 7.72c-.78.78-.78 2.05 0 2.83L4 21.41c.39.39.9.59 1.41.59.51 0 1.02-.2 1.41-.59l7.78-7.78 2.81-2.81c.8-.78.8-2.07 0-2.86zM5.41 20L4 18.59l7.72-7.72 1.47 1.35L5.41 20z\"/>\n",
              "  </svg>\n",
              "      </button>\n",
              "      \n",
              "  <style>\n",
              "    .colab-df-container {\n",
              "      display:flex;\n",
              "      flex-wrap:wrap;\n",
              "      gap: 12px;\n",
              "    }\n",
              "\n",
              "    .colab-df-convert {\n",
              "      background-color: #E8F0FE;\n",
              "      border: none;\n",
              "      border-radius: 50%;\n",
              "      cursor: pointer;\n",
              "      display: none;\n",
              "      fill: #1967D2;\n",
              "      height: 32px;\n",
              "      padding: 0 0 0 0;\n",
              "      width: 32px;\n",
              "    }\n",
              "\n",
              "    .colab-df-convert:hover {\n",
              "      background-color: #E2EBFA;\n",
              "      box-shadow: 0px 1px 2px rgba(60, 64, 67, 0.3), 0px 1px 3px 1px rgba(60, 64, 67, 0.15);\n",
              "      fill: #174EA6;\n",
              "    }\n",
              "\n",
              "    [theme=dark] .colab-df-convert {\n",
              "      background-color: #3B4455;\n",
              "      fill: #D2E3FC;\n",
              "    }\n",
              "\n",
              "    [theme=dark] .colab-df-convert:hover {\n",
              "      background-color: #434B5C;\n",
              "      box-shadow: 0px 1px 3px 1px rgba(0, 0, 0, 0.15);\n",
              "      filter: drop-shadow(0px 1px 2px rgba(0, 0, 0, 0.3));\n",
              "      fill: #FFFFFF;\n",
              "    }\n",
              "  </style>\n",
              "\n",
              "      <script>\n",
              "        const buttonEl =\n",
              "          document.querySelector('#df-0270dada-f503-46b1-a4b2-6f92d5e485df button.colab-df-convert');\n",
              "        buttonEl.style.display =\n",
              "          google.colab.kernel.accessAllowed ? 'block' : 'none';\n",
              "\n",
              "        async function convertToInteractive(key) {\n",
              "          const element = document.querySelector('#df-0270dada-f503-46b1-a4b2-6f92d5e485df');\n",
              "          const dataTable =\n",
              "            await google.colab.kernel.invokeFunction('convertToInteractive',\n",
              "                                                     [key], {});\n",
              "          if (!dataTable) return;\n",
              "\n",
              "          const docLinkHtml = 'Like what you see? Visit the ' +\n",
              "            '<a target=\"_blank\" href=https://colab.research.google.com/notebooks/data_table.ipynb>data table notebook</a>'\n",
              "            + ' to learn more about interactive tables.';\n",
              "          element.innerHTML = '';\n",
              "          dataTable['output_type'] = 'display_data';\n",
              "          await google.colab.output.renderOutput(dataTable, element);\n",
              "          const docLink = document.createElement('div');\n",
              "          docLink.innerHTML = docLinkHtml;\n",
              "          element.appendChild(docLink);\n",
              "        }\n",
              "      </script>\n",
              "    </div>\n",
              "  </div>\n",
              "  "
            ],
            "text/plain": [
              "                                   close    high  ...  divCash  splitFactor\n",
              "symbol date                                       ...                      \n",
              "AAPL   2017-01-13 00:00:00+00:00  119.04  119.62  ...      0.0          1.0\n",
              "       2017-01-17 00:00:00+00:00  120.00  120.24  ...      0.0          1.0\n",
              "       2017-01-18 00:00:00+00:00  119.99  120.50  ...      0.0          1.0\n",
              "       2017-01-19 00:00:00+00:00  119.78  120.09  ...      0.0          1.0\n",
              "       2017-01-20 00:00:00+00:00  120.00  120.45  ...      0.0          1.0\n",
              "\n",
              "[5 rows x 12 columns]"
            ]
          },
          "metadata": {},
          "execution_count": 118
        }
      ]
    },
    {
      "cell_type": "code",
      "source": [
        "df=df.reset_index()\n",
        "df.head()"
      ],
      "metadata": {
        "colab": {
          "base_uri": "https://localhost:8080/",
          "height": 250
        },
        "id": "ZUdnJMCb9y14",
        "outputId": "1ac703db-2fde-473c-e424-da93c0619fea"
      },
      "execution_count": 119,
      "outputs": [
        {
          "output_type": "execute_result",
          "data": {
            "text/html": [
              "\n",
              "  <div id=\"df-3351b8ca-29af-4e9d-b5c3-271cb5e04065\">\n",
              "    <div class=\"colab-df-container\">\n",
              "      <div>\n",
              "<style scoped>\n",
              "    .dataframe tbody tr th:only-of-type {\n",
              "        vertical-align: middle;\n",
              "    }\n",
              "\n",
              "    .dataframe tbody tr th {\n",
              "        vertical-align: top;\n",
              "    }\n",
              "\n",
              "    .dataframe thead th {\n",
              "        text-align: right;\n",
              "    }\n",
              "</style>\n",
              "<table border=\"1\" class=\"dataframe\">\n",
              "  <thead>\n",
              "    <tr style=\"text-align: right;\">\n",
              "      <th></th>\n",
              "      <th>symbol</th>\n",
              "      <th>date</th>\n",
              "      <th>close</th>\n",
              "      <th>high</th>\n",
              "      <th>low</th>\n",
              "      <th>open</th>\n",
              "      <th>volume</th>\n",
              "      <th>adjClose</th>\n",
              "      <th>adjHigh</th>\n",
              "      <th>adjLow</th>\n",
              "      <th>adjOpen</th>\n",
              "      <th>adjVolume</th>\n",
              "      <th>divCash</th>\n",
              "      <th>splitFactor</th>\n",
              "    </tr>\n",
              "  </thead>\n",
              "  <tbody>\n",
              "    <tr>\n",
              "      <th>0</th>\n",
              "      <td>AAPL</td>\n",
              "      <td>2017-01-13 00:00:00+00:00</td>\n",
              "      <td>119.04</td>\n",
              "      <td>119.62</td>\n",
              "      <td>118.8100</td>\n",
              "      <td>119.11</td>\n",
              "      <td>26111948</td>\n",
              "      <td>28.009183</td>\n",
              "      <td>28.145653</td>\n",
              "      <td>27.955066</td>\n",
              "      <td>28.025654</td>\n",
              "      <td>104447792</td>\n",
              "      <td>0.0</td>\n",
              "      <td>1.0</td>\n",
              "    </tr>\n",
              "    <tr>\n",
              "      <th>1</th>\n",
              "      <td>AAPL</td>\n",
              "      <td>2017-01-17 00:00:00+00:00</td>\n",
              "      <td>120.00</td>\n",
              "      <td>120.24</td>\n",
              "      <td>118.2200</td>\n",
              "      <td>118.34</td>\n",
              "      <td>34439843</td>\n",
              "      <td>28.235064</td>\n",
              "      <td>28.291534</td>\n",
              "      <td>27.816243</td>\n",
              "      <td>27.844479</td>\n",
              "      <td>137759372</td>\n",
              "      <td>0.0</td>\n",
              "      <td>1.0</td>\n",
              "    </tr>\n",
              "    <tr>\n",
              "      <th>2</th>\n",
              "      <td>AAPL</td>\n",
              "      <td>2017-01-18 00:00:00+00:00</td>\n",
              "      <td>119.99</td>\n",
              "      <td>120.50</td>\n",
              "      <td>119.7100</td>\n",
              "      <td>120.00</td>\n",
              "      <td>23712961</td>\n",
              "      <td>28.232711</td>\n",
              "      <td>28.352710</td>\n",
              "      <td>28.166829</td>\n",
              "      <td>28.235064</td>\n",
              "      <td>94851844</td>\n",
              "      <td>0.0</td>\n",
              "      <td>1.0</td>\n",
              "    </tr>\n",
              "    <tr>\n",
              "      <th>3</th>\n",
              "      <td>AAPL</td>\n",
              "      <td>2017-01-19 00:00:00+00:00</td>\n",
              "      <td>119.78</td>\n",
              "      <td>120.09</td>\n",
              "      <td>119.3700</td>\n",
              "      <td>119.40</td>\n",
              "      <td>25597291</td>\n",
              "      <td>28.183299</td>\n",
              "      <td>28.256240</td>\n",
              "      <td>28.086830</td>\n",
              "      <td>28.093888</td>\n",
              "      <td>102389164</td>\n",
              "      <td>0.0</td>\n",
              "      <td>1.0</td>\n",
              "    </tr>\n",
              "    <tr>\n",
              "      <th>4</th>\n",
              "      <td>AAPL</td>\n",
              "      <td>2017-01-20 00:00:00+00:00</td>\n",
              "      <td>120.00</td>\n",
              "      <td>120.45</td>\n",
              "      <td>119.7346</td>\n",
              "      <td>120.45</td>\n",
              "      <td>32597892</td>\n",
              "      <td>28.235064</td>\n",
              "      <td>28.340945</td>\n",
              "      <td>28.172617</td>\n",
              "      <td>28.340945</td>\n",
              "      <td>130391568</td>\n",
              "      <td>0.0</td>\n",
              "      <td>1.0</td>\n",
              "    </tr>\n",
              "  </tbody>\n",
              "</table>\n",
              "</div>\n",
              "      <button class=\"colab-df-convert\" onclick=\"convertToInteractive('df-3351b8ca-29af-4e9d-b5c3-271cb5e04065')\"\n",
              "              title=\"Convert this dataframe to an interactive table.\"\n",
              "              style=\"display:none;\">\n",
              "        \n",
              "  <svg xmlns=\"http://www.w3.org/2000/svg\" height=\"24px\"viewBox=\"0 0 24 24\"\n",
              "       width=\"24px\">\n",
              "    <path d=\"M0 0h24v24H0V0z\" fill=\"none\"/>\n",
              "    <path d=\"M18.56 5.44l.94 2.06.94-2.06 2.06-.94-2.06-.94-.94-2.06-.94 2.06-2.06.94zm-11 1L8.5 8.5l.94-2.06 2.06-.94-2.06-.94L8.5 2.5l-.94 2.06-2.06.94zm10 10l.94 2.06.94-2.06 2.06-.94-2.06-.94-.94-2.06-.94 2.06-2.06.94z\"/><path d=\"M17.41 7.96l-1.37-1.37c-.4-.4-.92-.59-1.43-.59-.52 0-1.04.2-1.43.59L10.3 9.45l-7.72 7.72c-.78.78-.78 2.05 0 2.83L4 21.41c.39.39.9.59 1.41.59.51 0 1.02-.2 1.41-.59l7.78-7.78 2.81-2.81c.8-.78.8-2.07 0-2.86zM5.41 20L4 18.59l7.72-7.72 1.47 1.35L5.41 20z\"/>\n",
              "  </svg>\n",
              "      </button>\n",
              "      \n",
              "  <style>\n",
              "    .colab-df-container {\n",
              "      display:flex;\n",
              "      flex-wrap:wrap;\n",
              "      gap: 12px;\n",
              "    }\n",
              "\n",
              "    .colab-df-convert {\n",
              "      background-color: #E8F0FE;\n",
              "      border: none;\n",
              "      border-radius: 50%;\n",
              "      cursor: pointer;\n",
              "      display: none;\n",
              "      fill: #1967D2;\n",
              "      height: 32px;\n",
              "      padding: 0 0 0 0;\n",
              "      width: 32px;\n",
              "    }\n",
              "\n",
              "    .colab-df-convert:hover {\n",
              "      background-color: #E2EBFA;\n",
              "      box-shadow: 0px 1px 2px rgba(60, 64, 67, 0.3), 0px 1px 3px 1px rgba(60, 64, 67, 0.15);\n",
              "      fill: #174EA6;\n",
              "    }\n",
              "\n",
              "    [theme=dark] .colab-df-convert {\n",
              "      background-color: #3B4455;\n",
              "      fill: #D2E3FC;\n",
              "    }\n",
              "\n",
              "    [theme=dark] .colab-df-convert:hover {\n",
              "      background-color: #434B5C;\n",
              "      box-shadow: 0px 1px 3px 1px rgba(0, 0, 0, 0.15);\n",
              "      filter: drop-shadow(0px 1px 2px rgba(0, 0, 0, 0.3));\n",
              "      fill: #FFFFFF;\n",
              "    }\n",
              "  </style>\n",
              "\n",
              "      <script>\n",
              "        const buttonEl =\n",
              "          document.querySelector('#df-3351b8ca-29af-4e9d-b5c3-271cb5e04065 button.colab-df-convert');\n",
              "        buttonEl.style.display =\n",
              "          google.colab.kernel.accessAllowed ? 'block' : 'none';\n",
              "\n",
              "        async function convertToInteractive(key) {\n",
              "          const element = document.querySelector('#df-3351b8ca-29af-4e9d-b5c3-271cb5e04065');\n",
              "          const dataTable =\n",
              "            await google.colab.kernel.invokeFunction('convertToInteractive',\n",
              "                                                     [key], {});\n",
              "          if (!dataTable) return;\n",
              "\n",
              "          const docLinkHtml = 'Like what you see? Visit the ' +\n",
              "            '<a target=\"_blank\" href=https://colab.research.google.com/notebooks/data_table.ipynb>data table notebook</a>'\n",
              "            + ' to learn more about interactive tables.';\n",
              "          element.innerHTML = '';\n",
              "          dataTable['output_type'] = 'display_data';\n",
              "          await google.colab.output.renderOutput(dataTable, element);\n",
              "          const docLink = document.createElement('div');\n",
              "          docLink.innerHTML = docLinkHtml;\n",
              "          element.appendChild(docLink);\n",
              "        }\n",
              "      </script>\n",
              "    </div>\n",
              "  </div>\n",
              "  "
            ],
            "text/plain": [
              "  symbol                      date   close  ...  adjVolume  divCash  splitFactor\n",
              "0   AAPL 2017-01-13 00:00:00+00:00  119.04  ...  104447792      0.0          1.0\n",
              "1   AAPL 2017-01-17 00:00:00+00:00  120.00  ...  137759372      0.0          1.0\n",
              "2   AAPL 2017-01-18 00:00:00+00:00  119.99  ...   94851844      0.0          1.0\n",
              "3   AAPL 2017-01-19 00:00:00+00:00  119.78  ...  102389164      0.0          1.0\n",
              "4   AAPL 2017-01-20 00:00:00+00:00  120.00  ...  130391568      0.0          1.0\n",
              "\n",
              "[5 rows x 14 columns]"
            ]
          },
          "metadata": {},
          "execution_count": 119
        }
      ]
    },
    {
      "cell_type": "code",
      "source": [
        "len(df)"
      ],
      "metadata": {
        "colab": {
          "base_uri": "https://localhost:8080/"
        },
        "id": "qYJbnWoGBpLb",
        "outputId": "1511c638-a1a1-496b-8782-103d0ffeabf6"
      },
      "execution_count": 120,
      "outputs": [
        {
          "output_type": "execute_result",
          "data": {
            "text/plain": [
              "1258"
            ]
          },
          "metadata": {},
          "execution_count": 120
        }
      ]
    },
    {
      "cell_type": "code",
      "source": [
        "train_dates = pd.to_datetime(df['date'])\n",
        "print(train_dates.tail(5))"
      ],
      "metadata": {
        "colab": {
          "base_uri": "https://localhost:8080/"
        },
        "id": "Lb282XWBByyt",
        "outputId": "52953f63-1f4f-4677-e963-bf46aa691a83"
      },
      "execution_count": 121,
      "outputs": [
        {
          "output_type": "stream",
          "name": "stdout",
          "text": [
            "1253   2022-01-05 00:00:00+00:00\n",
            "1254   2022-01-06 00:00:00+00:00\n",
            "1255   2022-01-07 00:00:00+00:00\n",
            "1256   2022-01-10 00:00:00+00:00\n",
            "1257   2022-01-11 00:00:00+00:00\n",
            "Name: date, dtype: datetime64[ns, UTC]\n"
          ]
        }
      ]
    },
    {
      "cell_type": "code",
      "source": [
        "cols = list(df)[2:6]\n",
        "print(cols)"
      ],
      "metadata": {
        "colab": {
          "base_uri": "https://localhost:8080/"
        },
        "id": "tccHiDMBQ-UZ",
        "outputId": "abda6531-9c40-4993-e30f-ec2c733c2c9b"
      },
      "execution_count": 122,
      "outputs": [
        {
          "output_type": "stream",
          "name": "stdout",
          "text": [
            "['close', 'high', 'low', 'open']\n"
          ]
        }
      ]
    },
    {
      "cell_type": "code",
      "source": [
        "df_for_training = df[cols].astype(float)\n",
        "df_for_training.tail(5)"
      ],
      "metadata": {
        "colab": {
          "base_uri": "https://localhost:8080/",
          "height": 206
        },
        "id": "fG4LoOPISOWe",
        "outputId": "e835bf7d-d58a-4eb7-fe6b-63a887d55abc"
      },
      "execution_count": 123,
      "outputs": [
        {
          "output_type": "execute_result",
          "data": {
            "text/html": [
              "\n",
              "  <div id=\"df-d8734956-87bb-49c8-8370-81e1ff960390\">\n",
              "    <div class=\"colab-df-container\">\n",
              "      <div>\n",
              "<style scoped>\n",
              "    .dataframe tbody tr th:only-of-type {\n",
              "        vertical-align: middle;\n",
              "    }\n",
              "\n",
              "    .dataframe tbody tr th {\n",
              "        vertical-align: top;\n",
              "    }\n",
              "\n",
              "    .dataframe thead th {\n",
              "        text-align: right;\n",
              "    }\n",
              "</style>\n",
              "<table border=\"1\" class=\"dataframe\">\n",
              "  <thead>\n",
              "    <tr style=\"text-align: right;\">\n",
              "      <th></th>\n",
              "      <th>close</th>\n",
              "      <th>high</th>\n",
              "      <th>low</th>\n",
              "      <th>open</th>\n",
              "    </tr>\n",
              "  </thead>\n",
              "  <tbody>\n",
              "    <tr>\n",
              "      <th>1253</th>\n",
              "      <td>174.92</td>\n",
              "      <td>180.17</td>\n",
              "      <td>174.64</td>\n",
              "      <td>179.61</td>\n",
              "    </tr>\n",
              "    <tr>\n",
              "      <th>1254</th>\n",
              "      <td>172.00</td>\n",
              "      <td>175.30</td>\n",
              "      <td>171.64</td>\n",
              "      <td>172.70</td>\n",
              "    </tr>\n",
              "    <tr>\n",
              "      <th>1255</th>\n",
              "      <td>172.17</td>\n",
              "      <td>174.14</td>\n",
              "      <td>171.03</td>\n",
              "      <td>172.89</td>\n",
              "    </tr>\n",
              "    <tr>\n",
              "      <th>1256</th>\n",
              "      <td>172.19</td>\n",
              "      <td>172.50</td>\n",
              "      <td>168.17</td>\n",
              "      <td>169.08</td>\n",
              "    </tr>\n",
              "    <tr>\n",
              "      <th>1257</th>\n",
              "      <td>175.08</td>\n",
              "      <td>175.18</td>\n",
              "      <td>170.82</td>\n",
              "      <td>172.32</td>\n",
              "    </tr>\n",
              "  </tbody>\n",
              "</table>\n",
              "</div>\n",
              "      <button class=\"colab-df-convert\" onclick=\"convertToInteractive('df-d8734956-87bb-49c8-8370-81e1ff960390')\"\n",
              "              title=\"Convert this dataframe to an interactive table.\"\n",
              "              style=\"display:none;\">\n",
              "        \n",
              "  <svg xmlns=\"http://www.w3.org/2000/svg\" height=\"24px\"viewBox=\"0 0 24 24\"\n",
              "       width=\"24px\">\n",
              "    <path d=\"M0 0h24v24H0V0z\" fill=\"none\"/>\n",
              "    <path d=\"M18.56 5.44l.94 2.06.94-2.06 2.06-.94-2.06-.94-.94-2.06-.94 2.06-2.06.94zm-11 1L8.5 8.5l.94-2.06 2.06-.94-2.06-.94L8.5 2.5l-.94 2.06-2.06.94zm10 10l.94 2.06.94-2.06 2.06-.94-2.06-.94-.94-2.06-.94 2.06-2.06.94z\"/><path d=\"M17.41 7.96l-1.37-1.37c-.4-.4-.92-.59-1.43-.59-.52 0-1.04.2-1.43.59L10.3 9.45l-7.72 7.72c-.78.78-.78 2.05 0 2.83L4 21.41c.39.39.9.59 1.41.59.51 0 1.02-.2 1.41-.59l7.78-7.78 2.81-2.81c.8-.78.8-2.07 0-2.86zM5.41 20L4 18.59l7.72-7.72 1.47 1.35L5.41 20z\"/>\n",
              "  </svg>\n",
              "      </button>\n",
              "      \n",
              "  <style>\n",
              "    .colab-df-container {\n",
              "      display:flex;\n",
              "      flex-wrap:wrap;\n",
              "      gap: 12px;\n",
              "    }\n",
              "\n",
              "    .colab-df-convert {\n",
              "      background-color: #E8F0FE;\n",
              "      border: none;\n",
              "      border-radius: 50%;\n",
              "      cursor: pointer;\n",
              "      display: none;\n",
              "      fill: #1967D2;\n",
              "      height: 32px;\n",
              "      padding: 0 0 0 0;\n",
              "      width: 32px;\n",
              "    }\n",
              "\n",
              "    .colab-df-convert:hover {\n",
              "      background-color: #E2EBFA;\n",
              "      box-shadow: 0px 1px 2px rgba(60, 64, 67, 0.3), 0px 1px 3px 1px rgba(60, 64, 67, 0.15);\n",
              "      fill: #174EA6;\n",
              "    }\n",
              "\n",
              "    [theme=dark] .colab-df-convert {\n",
              "      background-color: #3B4455;\n",
              "      fill: #D2E3FC;\n",
              "    }\n",
              "\n",
              "    [theme=dark] .colab-df-convert:hover {\n",
              "      background-color: #434B5C;\n",
              "      box-shadow: 0px 1px 3px 1px rgba(0, 0, 0, 0.15);\n",
              "      filter: drop-shadow(0px 1px 2px rgba(0, 0, 0, 0.3));\n",
              "      fill: #FFFFFF;\n",
              "    }\n",
              "  </style>\n",
              "\n",
              "      <script>\n",
              "        const buttonEl =\n",
              "          document.querySelector('#df-d8734956-87bb-49c8-8370-81e1ff960390 button.colab-df-convert');\n",
              "        buttonEl.style.display =\n",
              "          google.colab.kernel.accessAllowed ? 'block' : 'none';\n",
              "\n",
              "        async function convertToInteractive(key) {\n",
              "          const element = document.querySelector('#df-d8734956-87bb-49c8-8370-81e1ff960390');\n",
              "          const dataTable =\n",
              "            await google.colab.kernel.invokeFunction('convertToInteractive',\n",
              "                                                     [key], {});\n",
              "          if (!dataTable) return;\n",
              "\n",
              "          const docLinkHtml = 'Like what you see? Visit the ' +\n",
              "            '<a target=\"_blank\" href=https://colab.research.google.com/notebooks/data_table.ipynb>data table notebook</a>'\n",
              "            + ' to learn more about interactive tables.';\n",
              "          element.innerHTML = '';\n",
              "          dataTable['output_type'] = 'display_data';\n",
              "          await google.colab.output.renderOutput(dataTable, element);\n",
              "          const docLink = document.createElement('div');\n",
              "          docLink.innerHTML = docLinkHtml;\n",
              "          element.appendChild(docLink);\n",
              "        }\n",
              "      </script>\n",
              "    </div>\n",
              "  </div>\n",
              "  "
            ],
            "text/plain": [
              "       close    high     low    open\n",
              "1253  174.92  180.17  174.64  179.61\n",
              "1254  172.00  175.30  171.64  172.70\n",
              "1255  172.17  174.14  171.03  172.89\n",
              "1256  172.19  172.50  168.17  169.08\n",
              "1257  175.08  175.18  170.82  172.32"
            ]
          },
          "metadata": {},
          "execution_count": 123
        }
      ]
    },
    {
      "cell_type": "code",
      "source": [
        "# plotting the features\n",
        "df_for_training.plot.line()"
      ],
      "metadata": {
        "colab": {
          "base_uri": "https://localhost:8080/",
          "height": 282
        },
        "id": "DZ4X-YVQSV0v",
        "outputId": "713d5c22-8a89-4832-de54-7b675c7b8d02"
      },
      "execution_count": 124,
      "outputs": [
        {
          "output_type": "execute_result",
          "data": {
            "text/plain": [
              "<matplotlib.axes._subplots.AxesSubplot at 0x7f8678a52850>"
            ]
          },
          "metadata": {},
          "execution_count": 124
        },
        {
          "output_type": "display_data",
          "data": {
            "image/png": "[encoded data removed]",
            "text/plain": [
              "<Figure size 432x288 with 1 Axes>"
            ]
          },
          "metadata": {
            "needs_background": "light"
          }
        }
      ]
    },
    {
      "cell_type": "code",
      "source": [
        "# standard scaling\n",
        "from sklearn.preprocessing import StandardScaler\n",
        "scaler = StandardScaler()\n",
        "scaler = scaler.fit(df_for_training)\n",
        "df_for_training_scaled = scaler.transform(df_for_training)"
      ],
      "metadata": {
        "id": "BFE7amClS8He"
      },
      "execution_count": 125,
      "outputs": []
    },
    {
      "cell_type": "code",
      "source": [
        "df_for_training.shape"
      ],
      "metadata": {
        "colab": {
          "base_uri": "https://localhost:8080/"
        },
        "id": "971aTEKXT53u",
        "outputId": "e20bfe18-d4d6-457a-9a7c-a375c836b297"
      },
      "execution_count": 126,
      "outputs": [
        {
          "output_type": "execute_result",
          "data": {
            "text/plain": [
              "(1258, 4)"
            ]
          },
          "metadata": {},
          "execution_count": 126
        }
      ]
    },
    {
      "cell_type": "code",
      "source": [
        "trainX = []\n",
        "trainY = []\n",
        "\n",
        "n_future = 1   # Number of days we want to look into the future based on the past days.\n",
        "n_past = 14    # Number of past days we want to use to predict the future.\n",
        "\n",
        "for i in range(n_past, len(df_for_training_scaled) - n_future +1):\n",
        "    trainX.append(df_for_training_scaled[i - n_past:i, 0:df_for_training.shape[1]])\n",
        "    trainY.append(df_for_training_scaled[i + n_future - 1:i + n_future, 0])"
      ],
      "metadata": {
        "id": "AB4FTHYeTPTF"
      },
      "execution_count": 127,
      "outputs": []
    },
    {
      "cell_type": "code",
      "source": [
        "trainX[0]"
      ],
      "metadata": {
        "colab": {
          "base_uri": "https://localhost:8080/"
        },
        "id": "TzMYiSWwTZiT",
        "outputId": "0c9f6139-b5a9-4e7e-bad7-d6e903db9cba"
      },
      "execution_count": 28,
      "outputs": [
        {
          "output_type": "execute_result",
          "data": {
            "text/plain": [
              "array([[-1.02631993, -1.03303833, -1.01576669, -1.02636135],\n",
              "       [-1.01247729, -1.02419516, -1.02441172, -1.03751068],\n",
              "       [-1.01262149, -1.02048673, -1.00257935, -1.01347446],\n",
              "       [-1.01564957, -1.02633464, -1.00756123, -1.02216225],\n",
              "       [-1.01247729, -1.02119989, -1.0022189 , -1.00695862],\n",
              "       [-1.01132374, -1.01606515, -1.0017002 , -1.01347446],\n",
              "       [-1.01290988, -1.026192  , -1.0056564 , -1.0199903 ],\n",
              "       [-0.98536879, -0.99766565, -0.99422737, -1.00739301],\n",
              "       [-0.98450363, -0.99281617, -0.97488594, -0.98929345],\n",
              "       [-0.98435943, -0.99409985, -0.97488594, -0.98248801],\n",
              "       [-0.98897364, -1.00436934, -0.98865938, -1.00000839],\n",
              "       [-0.99301108, -1.0077925 , -0.98924549, -0.99682286],\n",
              "       [-0.8863074 , -0.87799758, -0.89561539, -0.91168253],\n",
              "       [-0.88947967, -0.89368707, -0.88433289, -0.89799926]])"
            ]
          },
          "metadata": {},
          "execution_count": 28
        }
      ]
    },
    {
      "cell_type": "code",
      "source": [
        "# coverting into numpy arrays\n",
        "import numpy as np\n",
        "trainX, trainY = np.array(trainX), np.array(trainY)"
      ],
      "metadata": {
        "id": "2AUwROxYT9o1"
      },
      "execution_count": 128,
      "outputs": []
    },
    {
      "cell_type": "code",
      "source": [
        "print('trainX shape is {}'.format(trainX.shape))\n",
        "print('trainY shape is {}'.format(trainY.shape))"
      ],
      "metadata": {
        "colab": {
          "base_uri": "https://localhost:8080/"
        },
        "id": "6768ba7MUdui",
        "outputId": "0b3f25f2-d24a-4507-e9a8-f43025112eb5"
      },
      "execution_count": 129,
      "outputs": [
        {
          "output_type": "stream",
          "name": "stdout",
          "text": [
            "trainX shape is (1244, 14, 4)\n",
            "trainY shape is (1244, 1)\n"
          ]
        }
      ]
    },
    {
      "cell_type": "code",
      "source": [
        "import tensorflow as tf\n",
        "tf.keras.backend.clear_session()"
      ],
      "metadata": {
        "id": "pJVfBwqu46rr"
      },
      "execution_count": 131,
      "outputs": []
    },
    {
      "cell_type": "code",
      "source": [
        "# Model building\n",
        "from tensorflow.keras.models import Sequential\n",
        "from tensorflow.keras.layers import LSTM\n",
        "from tensorflow.keras.layers import Dense, Dropout\n",
        "\n",
        "model = Sequential()\n",
        "model.add(LSTM(64, activation='relu', input_shape=(trainX.shape[1], trainX.shape[2]), return_sequences=True))\n",
        "model.add(LSTM(32, activation='relu', return_sequences=False))\n",
        "model.add(Dropout(0.2))\n",
        "model.add(Dense(trainY.shape[1]))\n",
        "\n",
        "model.compile(optimizer='adam', loss='mse')\n",
        "model.summary()"
      ],
      "metadata": {
        "colab": {
          "base_uri": "https://localhost:8080/"
        },
        "id": "axYzovKUUj8_",
        "outputId": "af278732-3632-4661-b60f-e7ac4ad1ceea"
      },
      "execution_count": 132,
      "outputs": [
        {
          "output_type": "stream",
          "name": "stdout",
          "text": [
            "Model: \"sequential\"\n",
            "_________________________________________________________________\n",
            " Layer (type)                Output Shape              Param #   \n",
            "=================================================================\n",
            " lstm (LSTM)                 (None, 14, 64)            17664     \n",
            "                                                                 \n",
            " lstm_1 (LSTM)               (None, 32)                12416     \n",
            "                                                                 \n",
            " dropout (Dropout)           (None, 32)                0         \n",
            "                                                                 \n",
            " dense (Dense)               (None, 1)                 33        \n",
            "                                                                 \n",
            "=================================================================\n",
            "Total params: 30,113\n",
            "Trainable params: 30,113\n",
            "Non-trainable params: 0\n",
            "_________________________________________________________________\n"
          ]
        }
      ]
    },
    {
      "cell_type": "code",
      "source": [
        "# Early stopping\n",
        "from keras.callbacks import EarlyStopping\n",
        "\n",
        "earlystop = EarlyStopping(monitor='val_loss', min_delta=0.0001, patience=80,  verbose=1, mode='min')\n",
        "callbacks_list = [earlystop]"
      ],
      "metadata": {
        "id": "O3FsV6xdWRpi"
      },
      "execution_count": 133,
      "outputs": []
    },
    {
      "cell_type": "code",
      "source": [
        "history = model.fit(trainX, trainY, epochs=100, batch_size=16, validation_split=0.1, verbose=1,callbacks=callbacks_list)"
      ],
      "metadata": {
        "colab": {
          "base_uri": "https://localhost:8080/"
        },
        "id": "DHsnf7dUVm9v",
        "outputId": "df1ff439-891a-44c6-ed35-49c8437ae31d"
      },
      "execution_count": 134,
      "outputs": [
        {
          "output_type": "stream",
          "name": "stdout",
          "text": [
            "Epoch 1/100\n",
            "70/70 [==============================] - 4s 20ms/step - loss: 0.4245 - val_loss: 0.0044\n",
            "Epoch 2/100\n",
            "70/70 [==============================] - 1s 15ms/step - loss: 0.1139 - val_loss: 0.0040\n",
            "Epoch 3/100\n",
            "70/70 [==============================] - 1s 15ms/step - loss: 0.0813 - val_loss: 0.0054\n",
            "Epoch 4/100\n",
            "70/70 [==============================] - 1s 15ms/step - loss: 0.0993 - val_loss: 0.0039\n",
            "Epoch 5/100\n",
            "70/70 [==============================] - 1s 15ms/step - loss: 0.0711 - val_loss: 0.0065\n",
            "Epoch 6/100\n",
            "70/70 [==============================] - 1s 15ms/step - loss: 0.0753 - val_loss: 0.0033\n",
            "Epoch 7/100\n",
            "70/70 [==============================] - 1s 15ms/step - loss: 0.0700 - val_loss: 0.0060\n",
            "Epoch 8/100\n",
            "70/70 [==============================] - 1s 15ms/step - loss: 0.0855 - val_loss: 0.0038\n",
            "Epoch 9/100\n",
            "70/70 [==============================] - 1s 15ms/step - loss: 0.0699 - val_loss: 0.0030\n",
            "Epoch 10/100\n",
            "70/70 [==============================] - 1s 15ms/step - loss: 0.0818 - val_loss: 0.0035\n",
            "Epoch 11/100\n",
            "70/70 [==============================] - 1s 15ms/step - loss: 0.0681 - val_loss: 0.0046\n",
            "Epoch 12/100\n",
            "70/70 [==============================] - 1s 16ms/step - loss: 0.0840 - val_loss: 0.0039\n",
            "Epoch 13/100\n",
            "70/70 [==============================] - 1s 15ms/step - loss: 0.0756 - val_loss: 0.0029\n",
            "Epoch 14/100\n",
            "70/70 [==============================] - 1s 15ms/step - loss: 0.0671 - val_loss: 0.0026\n",
            "Epoch 15/100\n",
            "70/70 [==============================] - 1s 14ms/step - loss: 0.0677 - val_loss: 0.0031\n",
            "Epoch 16/100\n",
            "70/70 [==============================] - 1s 15ms/step - loss: 0.0862 - val_loss: 0.0025\n",
            "Epoch 17/100\n",
            "70/70 [==============================] - 1s 15ms/step - loss: 0.0602 - val_loss: 0.0025\n",
            "Epoch 18/100\n",
            "70/70 [==============================] - 1s 15ms/step - loss: 0.0916 - val_loss: 0.0036\n",
            "Epoch 19/100\n",
            "70/70 [==============================] - 1s 15ms/step - loss: 0.0676 - val_loss: 0.0028\n",
            "Epoch 20/100\n",
            "70/70 [==============================] - 1s 16ms/step - loss: 0.0682 - val_loss: 0.0025\n",
            "Epoch 21/100\n",
            "70/70 [==============================] - 1s 15ms/step - loss: 0.0768 - val_loss: 0.0023\n",
            "Epoch 22/100\n",
            "70/70 [==============================] - 1s 15ms/step - loss: 0.0701 - val_loss: 0.0024\n",
            "Epoch 23/100\n",
            "70/70 [==============================] - 1s 15ms/step - loss: 0.0608 - val_loss: 0.0036\n",
            "Epoch 24/100\n",
            "70/70 [==============================] - 1s 15ms/step - loss: 0.0622 - val_loss: 0.0022\n",
            "Epoch 25/100\n",
            "70/70 [==============================] - 1s 16ms/step - loss: 0.0634 - val_loss: 0.0023\n",
            "Epoch 26/100\n",
            "70/70 [==============================] - 1s 15ms/step - loss: 0.0786 - val_loss: 0.0024\n",
            "Epoch 27/100\n",
            "70/70 [==============================] - 1s 15ms/step - loss: 0.0553 - val_loss: 0.0024\n",
            "Epoch 28/100\n",
            "70/70 [==============================] - 1s 16ms/step - loss: 0.0727 - val_loss: 0.0022\n",
            "Epoch 29/100\n",
            "70/70 [==============================] - 1s 15ms/step - loss: 0.0710 - val_loss: 0.0030\n",
            "Epoch 30/100\n",
            "70/70 [==============================] - 1s 15ms/step - loss: 0.0782 - val_loss: 0.0025\n",
            "Epoch 31/100\n",
            "70/70 [==============================] - 1s 15ms/step - loss: 0.0556 - val_loss: 0.0022\n",
            "Epoch 32/100\n",
            "70/70 [==============================] - 1s 15ms/step - loss: 0.0627 - val_loss: 0.0020\n",
            "Epoch 33/100\n",
            "70/70 [==============================] - 1s 15ms/step - loss: 0.0653 - val_loss: 0.0024\n",
            "Epoch 34/100\n",
            "70/70 [==============================] - 1s 17ms/step - loss: 0.0467 - val_loss: 0.0029\n",
            "Epoch 35/100\n",
            "70/70 [==============================] - 1s 15ms/step - loss: 0.0625 - val_loss: 0.0023\n",
            "Epoch 36/100\n",
            "70/70 [==============================] - 1s 15ms/step - loss: 0.0616 - val_loss: 0.0020\n",
            "Epoch 37/100\n",
            "70/70 [==============================] - 1s 15ms/step - loss: 0.0630 - val_loss: 0.0022\n",
            "Epoch 38/100\n",
            "70/70 [==============================] - 1s 15ms/step - loss: 0.0775 - val_loss: 0.0037\n",
            "Epoch 39/100\n",
            "70/70 [==============================] - 1s 15ms/step - loss: 0.0617 - val_loss: 0.0024\n",
            "Epoch 40/100\n",
            "70/70 [==============================] - 1s 15ms/step - loss: 0.0594 - val_loss: 0.0020\n",
            "Epoch 41/100\n",
            "70/70 [==============================] - 1s 15ms/step - loss: 0.0850 - val_loss: 0.0036\n",
            "Epoch 42/100\n",
            "70/70 [==============================] - 1s 15ms/step - loss: 0.0627 - val_loss: 0.0021\n",
            "Epoch 43/100\n",
            "70/70 [==============================] - 1s 15ms/step - loss: 0.0599 - val_loss: 0.0021\n",
            "Epoch 44/100\n",
            "70/70 [==============================] - 1s 16ms/step - loss: 0.0538 - val_loss: 0.0020\n",
            "Epoch 45/100\n",
            "70/70 [==============================] - 1s 15ms/step - loss: 0.0681 - val_loss: 0.0020\n",
            "Epoch 46/100\n",
            "70/70 [==============================] - 1s 15ms/step - loss: 0.0582 - val_loss: 0.0022\n",
            "Epoch 47/100\n",
            "70/70 [==============================] - 1s 15ms/step - loss: 0.0711 - val_loss: 0.0020\n",
            "Epoch 48/100\n",
            "70/70 [==============================] - 1s 15ms/step - loss: 0.0729 - val_loss: 0.0022\n",
            "Epoch 49/100\n",
            "70/70 [==============================] - 1s 16ms/step - loss: 0.0696 - val_loss: 0.0022\n",
            "Epoch 50/100\n",
            "70/70 [==============================] - 1s 15ms/step - loss: 0.0765 - val_loss: 0.0033\n",
            "Epoch 51/100\n",
            "70/70 [==============================] - 1s 15ms/step - loss: 0.0674 - val_loss: 0.0028\n",
            "Epoch 52/100\n",
            "70/70 [==============================] - 1s 15ms/step - loss: 0.0721 - val_loss: 0.0056\n",
            "Epoch 53/100\n",
            "70/70 [==============================] - 1s 16ms/step - loss: 0.0634 - val_loss: 0.0018\n",
            "Epoch 54/100\n",
            "70/70 [==============================] - 1s 16ms/step - loss: 0.0466 - val_loss: 0.0019\n",
            "Epoch 55/100\n",
            "70/70 [==============================] - 1s 15ms/step - loss: 0.0578 - val_loss: 0.0017\n",
            "Epoch 56/100\n",
            "70/70 [==============================] - 1s 15ms/step - loss: 0.0691 - val_loss: 0.0018\n",
            "Epoch 57/100\n",
            "70/70 [==============================] - 1s 16ms/step - loss: 0.0414 - val_loss: 0.0028\n",
            "Epoch 58/100\n",
            "70/70 [==============================] - 1s 16ms/step - loss: 0.0614 - val_loss: 0.0023\n",
            "Epoch 59/100\n",
            "70/70 [==============================] - 1s 15ms/step - loss: 0.0598 - val_loss: 0.0023\n",
            "Epoch 60/100\n",
            "70/70 [==============================] - 1s 15ms/step - loss: 0.0586 - val_loss: 0.0020\n",
            "Epoch 61/100\n",
            "70/70 [==============================] - 1s 15ms/step - loss: 0.0559 - val_loss: 0.0018\n",
            "Epoch 62/100\n",
            "70/70 [==============================] - 1s 16ms/step - loss: 0.0483 - val_loss: 0.0032\n",
            "Epoch 63/100\n",
            "70/70 [==============================] - 1s 16ms/step - loss: 0.0585 - val_loss: 0.0027\n",
            "Epoch 64/100\n",
            "70/70 [==============================] - 1s 15ms/step - loss: 0.0627 - val_loss: 0.0064\n",
            "Epoch 65/100\n",
            "70/70 [==============================] - 1s 16ms/step - loss: 0.0565 - val_loss: 0.0030\n",
            "Epoch 66/100\n",
            "70/70 [==============================] - 1s 16ms/step - loss: 0.0657 - val_loss: 0.0024\n",
            "Epoch 67/100\n",
            "70/70 [==============================] - 1s 15ms/step - loss: 0.0651 - val_loss: 0.0024\n",
            "Epoch 68/100\n",
            "70/70 [==============================] - 1s 16ms/step - loss: 0.0593 - val_loss: 0.0026\n",
            "Epoch 69/100\n",
            "70/70 [==============================] - 1s 15ms/step - loss: 0.0617 - val_loss: 0.0017\n",
            "Epoch 70/100\n",
            "70/70 [==============================] - 1s 15ms/step - loss: 0.0679 - val_loss: 0.0024\n",
            "Epoch 71/100\n",
            "70/70 [==============================] - 1s 16ms/step - loss: 0.0635 - val_loss: 0.0025\n",
            "Epoch 72/100\n",
            "70/70 [==============================] - 1s 15ms/step - loss: 0.0645 - val_loss: 0.0030\n",
            "Epoch 73/100\n",
            "70/70 [==============================] - 1s 15ms/step - loss: 0.0626 - val_loss: 0.0016\n",
            "Epoch 74/100\n",
            "70/70 [==============================] - 1s 15ms/step - loss: 0.0556 - val_loss: 0.0016\n",
            "Epoch 75/100\n",
            "70/70 [==============================] - 1s 15ms/step - loss: 0.0527 - val_loss: 0.0016\n",
            "Epoch 76/100\n",
            "70/70 [==============================] - 1s 15ms/step - loss: 0.0627 - val_loss: 0.0015\n",
            "Epoch 77/100\n",
            "70/70 [==============================] - 1s 15ms/step - loss: 0.0439 - val_loss: 0.0015\n",
            "Epoch 78/100\n",
            "70/70 [==============================] - 1s 15ms/step - loss: 0.0521 - val_loss: 0.0015\n",
            "Epoch 79/100\n",
            "70/70 [==============================] - 1s 15ms/step - loss: 0.0485 - val_loss: 0.0018\n",
            "Epoch 80/100\n",
            "70/70 [==============================] - 1s 15ms/step - loss: 0.0665 - val_loss: 0.0018\n",
            "Epoch 81/100\n",
            "70/70 [==============================] - 1s 15ms/step - loss: 0.0574 - val_loss: 0.0020\n",
            "Epoch 82/100\n",
            "70/70 [==============================] - 1s 15ms/step - loss: 0.0577 - val_loss: 0.0015\n",
            "Epoch 83/100\n",
            "70/70 [==============================] - 1s 16ms/step - loss: 0.0648 - val_loss: 0.0018\n",
            "Epoch 84/100\n",
            "70/70 [==============================] - 1s 16ms/step - loss: 0.0550 - val_loss: 0.0015\n",
            "Epoch 85/100\n",
            "70/70 [==============================] - 1s 15ms/step - loss: 0.0669 - val_loss: 0.0023\n",
            "Epoch 86/100\n",
            "70/70 [==============================] - 1s 15ms/step - loss: 0.0568 - val_loss: 0.0018\n",
            "Epoch 87/100\n",
            "70/70 [==============================] - 1s 15ms/step - loss: 0.0620 - val_loss: 0.0014\n",
            "Epoch 88/100\n",
            "70/70 [==============================] - 1s 16ms/step - loss: 0.0500 - val_loss: 0.0015\n",
            "Epoch 89/100\n",
            "70/70 [==============================] - 1s 15ms/step - loss: 0.0626 - val_loss: 0.0042\n",
            "Epoch 90/100\n",
            "70/70 [==============================] - 1s 15ms/step - loss: 0.0626 - val_loss: 0.0015\n",
            "Epoch 91/100\n",
            "70/70 [==============================] - 1s 16ms/step - loss: 0.0615 - val_loss: 0.0015\n",
            "Epoch 92/100\n",
            "70/70 [==============================] - 1s 16ms/step - loss: 0.0554 - val_loss: 0.0037\n",
            "Epoch 93/100\n",
            "70/70 [==============================] - 1s 16ms/step - loss: 0.0618 - val_loss: 0.0014\n",
            "Epoch 94/100\n",
            "70/70 [==============================] - 1s 15ms/step - loss: 0.0575 - val_loss: 0.0023\n",
            "Epoch 95/100\n",
            "70/70 [==============================] - 1s 16ms/step - loss: 0.0512 - val_loss: 0.0027\n",
            "Epoch 96/100\n",
            "70/70 [==============================] - 1s 16ms/step - loss: 0.0604 - val_loss: 0.0016\n",
            "Epoch 97/100\n",
            "70/70 [==============================] - 1s 15ms/step - loss: 0.0521 - val_loss: 0.0019\n",
            "Epoch 98/100\n",
            "70/70 [==============================] - 1s 15ms/step - loss: 0.0547 - val_loss: 0.0017\n",
            "Epoch 99/100\n",
            "70/70 [==============================] - 1s 15ms/step - loss: 0.0688 - val_loss: 0.0014\n",
            "Epoch 100/100\n",
            "70/70 [==============================] - 1s 15ms/step - loss: 0.0461 - val_loss: 0.0022\n"
          ]
        }
      ]
    },
    {
      "cell_type": "code",
      "source": [
        "import matplotlib.pyplot as plt\n",
        "plt.plot(history.history['loss'], label='Training loss')\n",
        "plt.plot(history.history['val_loss'], label='Validation loss')\n",
        "plt.legend()"
      ],
      "metadata": {
        "colab": {
          "base_uri": "https://localhost:8080/",
          "height": 282
        },
        "id": "j12mf4asXHbh",
        "outputId": "9f8f63d0-d6c6-489a-dc89-ae0af953fb7a"
      },
      "execution_count": 135,
      "outputs": [
        {
          "output_type": "execute_result",
          "data": {
            "text/plain": [
              "<matplotlib.legend.Legend at 0x7f8678691590>"
            ]
          },
          "metadata": {},
          "execution_count": 135
        },
        {
          "output_type": "display_data",
          "data": {
            "image/png": "[encoded data removed]",
            "text/plain": [
              "<Figure size 432x288 with 1 Axes>"
            ]
          },
          "metadata": {
            "needs_background": "light"
          }
        }
      ]
    },
    {
      "cell_type": "code",
      "source": [
        "import seaborn as sns\n",
        "from pandas.tseries.holiday import USFederalHolidayCalendar\n",
        "from pandas.tseries.offsets import CustomBusinessDay\n",
        "us_bd = CustomBusinessDay(calendar=USFederalHolidayCalendar())\n",
        "\n",
        "n_past = 16\n",
        "n_days_for_prediction=15  #let us predict past 15 days for generating dates\n",
        "\n",
        "predict_period_dates = pd.date_range(list(train_dates)[-n_past], periods=n_days_for_prediction, freq=us_bd).tolist()\n",
        "print(predict_period_dates)\n"
      ],
      "metadata": {
        "colab": {
          "base_uri": "https://localhost:8080/"
        },
        "id": "onEyAAQqX3T8",
        "outputId": "cf6f69d1-4c22-48d5-e251-795aad8b284b"
      },
      "execution_count": 136,
      "outputs": [
        {
          "output_type": "stream",
          "name": "stdout",
          "text": [
            "[Timestamp('2021-12-20 00:00:00+0000', tz='UTC', freq='C'), Timestamp('2021-12-21 00:00:00+0000', tz='UTC', freq='C'), Timestamp('2021-12-22 00:00:00+0000', tz='UTC', freq='C'), Timestamp('2021-12-23 00:00:00+0000', tz='UTC', freq='C'), Timestamp('2021-12-27 00:00:00+0000', tz='UTC', freq='C'), Timestamp('2021-12-28 00:00:00+0000', tz='UTC', freq='C'), Timestamp('2021-12-29 00:00:00+0000', tz='UTC', freq='C'), Timestamp('2021-12-30 00:00:00+0000', tz='UTC', freq='C'), Timestamp('2022-01-03 00:00:00+0000', tz='UTC', freq='C'), Timestamp('2022-01-04 00:00:00+0000', tz='UTC', freq='C'), Timestamp('2022-01-05 00:00:00+0000', tz='UTC', freq='C'), Timestamp('2022-01-06 00:00:00+0000', tz='UTC', freq='C'), Timestamp('2022-01-07 00:00:00+0000', tz='UTC', freq='C'), Timestamp('2022-01-10 00:00:00+0000', tz='UTC', freq='C'), Timestamp('2022-01-11 00:00:00+0000', tz='UTC', freq='C')]\n"
          ]
        }
      ]
    },
    {
      "cell_type": "code",
      "source": [
        "#Make prediction\n",
        "prediction = model.predict(trainX[-n_days_for_prediction:]) #shape = (n, 1) where n is the n_days_for_prediction\n",
        "\n",
        "#Perform inverse transformation to rescale back to original range\n",
        "#Since we used 5 variables for transform, the inverse expects same dimensions\n",
        "#Therefore, let us copy our values 5 times and discard them after inverse transform\n",
        "prediction_copies = np.repeat(prediction, df_for_training.shape[1], axis=-1)\n",
        "y_pred_future = scaler.inverse_transform(prediction_copies)[:,0]\n",
        "\n"
      ],
      "metadata": {
        "id": "xeOSLgcAYp4Q"
      },
      "execution_count": 137,
      "outputs": []
    },
    {
      "cell_type": "code",
      "source": [
        "# last value in train_dates\n",
        "list(train_dates)[-1]"
      ],
      "metadata": {
        "colab": {
          "base_uri": "https://localhost:8080/"
        },
        "id": "D20gl6FymaCR",
        "outputId": "a09b255f-e601-456d-8880-df68f428f3db"
      },
      "execution_count": 89,
      "outputs": [
        {
          "output_type": "execute_result",
          "data": {
            "text/plain": [
              "Timestamp('2022-01-11 00:00:00+0000', tz='UTC')"
            ]
          },
          "metadata": {},
          "execution_count": 89
        }
      ]
    },
    {
      "cell_type": "code",
      "source": [
        "# dates before 15 days\n",
        "list(train_dates)[-n_past]"
      ],
      "metadata": {
        "colab": {
          "base_uri": "https://localhost:8080/"
        },
        "id": "DVw3Fjy5nWb_",
        "outputId": "ebf84713-2cb9-4a09-cdee-3c59dad948f5"
      },
      "execution_count": 90,
      "outputs": [
        {
          "output_type": "execute_result",
          "data": {
            "text/plain": [
              "Timestamp('2021-12-20 00:00:00+0000', tz='UTC')"
            ]
          },
          "metadata": {},
          "execution_count": 90
        }
      ]
    },
    {
      "cell_type": "code",
      "source": [
        "# predicted dates\n",
        "predict_period_dates"
      ],
      "metadata": {
        "colab": {
          "base_uri": "https://localhost:8080/"
        },
        "id": "MGBR9LSsne_L",
        "outputId": "2e6b49c8-8ca8-423b-91ac-933fe69c244a"
      },
      "execution_count": 91,
      "outputs": [
        {
          "output_type": "execute_result",
          "data": {
            "text/plain": [
              "[Timestamp('2021-12-20 00:00:00+0000', tz='UTC', freq='C'),\n",
              " Timestamp('2021-12-21 00:00:00+0000', tz='UTC', freq='C'),\n",
              " Timestamp('2021-12-22 00:00:00+0000', tz='UTC', freq='C'),\n",
              " Timestamp('2021-12-23 00:00:00+0000', tz='UTC', freq='C'),\n",
              " Timestamp('2021-12-27 00:00:00+0000', tz='UTC', freq='C'),\n",
              " Timestamp('2021-12-28 00:00:00+0000', tz='UTC', freq='C'),\n",
              " Timestamp('2021-12-29 00:00:00+0000', tz='UTC', freq='C'),\n",
              " Timestamp('2021-12-30 00:00:00+0000', tz='UTC', freq='C'),\n",
              " Timestamp('2022-01-03 00:00:00+0000', tz='UTC', freq='C'),\n",
              " Timestamp('2022-01-04 00:00:00+0000', tz='UTC', freq='C'),\n",
              " Timestamp('2022-01-05 00:00:00+0000', tz='UTC', freq='C'),\n",
              " Timestamp('2022-01-06 00:00:00+0000', tz='UTC', freq='C'),\n",
              " Timestamp('2022-01-07 00:00:00+0000', tz='UTC', freq='C'),\n",
              " Timestamp('2022-01-10 00:00:00+0000', tz='UTC', freq='C'),\n",
              " Timestamp('2022-01-11 00:00:00+0000', tz='UTC', freq='C')]"
            ]
          },
          "metadata": {},
          "execution_count": 91
        }
      ]
    },
    {
      "cell_type": "code",
      "source": [
        "len(trainX[-n_days_for_prediction:])"
      ],
      "metadata": {
        "colab": {
          "base_uri": "https://localhost:8080/"
        },
        "id": "ZpqWeje_nqFd",
        "outputId": "cb5e48e4-27b2-49d4-a3fd-69719af9fce0"
      },
      "execution_count": 92,
      "outputs": [
        {
          "output_type": "execute_result",
          "data": {
            "text/plain": [
              "15"
            ]
          },
          "metadata": {},
          "execution_count": 92
        }
      ]
    },
    {
      "cell_type": "code",
      "source": [
        "# Convert timestamp to date\n",
        "forecast_dates = []\n",
        "for time_i in predict_period_dates:\n",
        "    forecast_dates.append(time_i.date())\n",
        "    \n",
        "df_forecast = pd.DataFrame({'Date':np.array(forecast_dates), 'Open':y_pred_future})\n",
        "df_forecast['Date']=pd.to_datetime(df_forecast['Date'])"
      ],
      "metadata": {
        "id": "l8iNHab0Y-sH"
      },
      "execution_count": 138,
      "outputs": []
    },
    {
      "cell_type": "code",
      "source": [
        "df_forecast.head()"
      ],
      "metadata": {
        "colab": {
          "base_uri": "https://localhost:8080/",
          "height": 206
        },
        "id": "SN4tgUkUZSpI",
        "outputId": "147f32fd-22be-4085-a65e-6f80e21e9b34"
      },
      "execution_count": 139,
      "outputs": [
        {
          "output_type": "execute_result",
          "data": {
            "text/html": [
              "\n",
              "  <div id=\"df-ed26b7a6-680f-4ac4-962e-0d80a148ccb5\">\n",
              "    <div class=\"colab-df-container\">\n",
              "      <div>\n",
              "<style scoped>\n",
              "    .dataframe tbody tr th:only-of-type {\n",
              "        vertical-align: middle;\n",
              "    }\n",
              "\n",
              "    .dataframe tbody tr th {\n",
              "        vertical-align: top;\n",
              "    }\n",
              "\n",
              "    .dataframe thead th {\n",
              "        text-align: right;\n",
              "    }\n",
              "</style>\n",
              "<table border=\"1\" class=\"dataframe\">\n",
              "  <thead>\n",
              "    <tr style=\"text-align: right;\">\n",
              "      <th></th>\n",
              "      <th>Date</th>\n",
              "      <th>Open</th>\n",
              "    </tr>\n",
              "  </thead>\n",
              "  <tbody>\n",
              "    <tr>\n",
              "      <th>0</th>\n",
              "      <td>2021-12-20</td>\n",
              "      <td>171.510452</td>\n",
              "    </tr>\n",
              "    <tr>\n",
              "      <th>1</th>\n",
              "      <td>2021-12-21</td>\n",
              "      <td>172.739929</td>\n",
              "    </tr>\n",
              "    <tr>\n",
              "      <th>2</th>\n",
              "      <td>2021-12-22</td>\n",
              "      <td>175.226471</td>\n",
              "    </tr>\n",
              "    <tr>\n",
              "      <th>3</th>\n",
              "      <td>2021-12-23</td>\n",
              "      <td>177.435272</td>\n",
              "    </tr>\n",
              "    <tr>\n",
              "      <th>4</th>\n",
              "      <td>2021-12-27</td>\n",
              "      <td>180.134308</td>\n",
              "    </tr>\n",
              "  </tbody>\n",
              "</table>\n",
              "</div>\n",
              "      <button class=\"colab-df-convert\" onclick=\"convertToInteractive('df-ed26b7a6-680f-4ac4-962e-0d80a148ccb5')\"\n",
              "              title=\"Convert this dataframe to an interactive table.\"\n",
              "              style=\"display:none;\">\n",
              "        \n",
              "  <svg xmlns=\"http://www.w3.org/2000/svg\" height=\"24px\"viewBox=\"0 0 24 24\"\n",
              "       width=\"24px\">\n",
              "    <path d=\"M0 0h24v24H0V0z\" fill=\"none\"/>\n",
              "    <path d=\"M18.56 5.44l.94 2.06.94-2.06 2.06-.94-2.06-.94-.94-2.06-.94 2.06-2.06.94zm-11 1L8.5 8.5l.94-2.06 2.06-.94-2.06-.94L8.5 2.5l-.94 2.06-2.06.94zm10 10l.94 2.06.94-2.06 2.06-.94-2.06-.94-.94-2.06-.94 2.06-2.06.94z\"/><path d=\"M17.41 7.96l-1.37-1.37c-.4-.4-.92-.59-1.43-.59-.52 0-1.04.2-1.43.59L10.3 9.45l-7.72 7.72c-.78.78-.78 2.05 0 2.83L4 21.41c.39.39.9.59 1.41.59.51 0 1.02-.2 1.41-.59l7.78-7.78 2.81-2.81c.8-.78.8-2.07 0-2.86zM5.41 20L4 18.59l7.72-7.72 1.47 1.35L5.41 20z\"/>\n",
              "  </svg>\n",
              "      </button>\n",
              "      \n",
              "  <style>\n",
              "    .colab-df-container {\n",
              "      display:flex;\n",
              "      flex-wrap:wrap;\n",
              "      gap: 12px;\n",
              "    }\n",
              "\n",
              "    .colab-df-convert {\n",
              "      background-color: #E8F0FE;\n",
              "      border: none;\n",
              "      border-radius: 50%;\n",
              "      cursor: pointer;\n",
              "      display: none;\n",
              "      fill: #1967D2;\n",
              "      height: 32px;\n",
              "      padding: 0 0 0 0;\n",
              "      width: 32px;\n",
              "    }\n",
              "\n",
              "    .colab-df-convert:hover {\n",
              "      background-color: #E2EBFA;\n",
              "      box-shadow: 0px 1px 2px rgba(60, 64, 67, 0.3), 0px 1px 3px 1px rgba(60, 64, 67, 0.15);\n",
              "      fill: #174EA6;\n",
              "    }\n",
              "\n",
              "    [theme=dark] .colab-df-convert {\n",
              "      background-color: #3B4455;\n",
              "      fill: #D2E3FC;\n",
              "    }\n",
              "\n",
              "    [theme=dark] .colab-df-convert:hover {\n",
              "      background-color: #434B5C;\n",
              "      box-shadow: 0px 1px 3px 1px rgba(0, 0, 0, 0.15);\n",
              "      filter: drop-shadow(0px 1px 2px rgba(0, 0, 0, 0.3));\n",
              "      fill: #FFFFFF;\n",
              "    }\n",
              "  </style>\n",
              "\n",
              "      <script>\n",
              "        const buttonEl =\n",
              "          document.querySelector('#df-ed26b7a6-680f-4ac4-962e-0d80a148ccb5 button.colab-df-convert');\n",
              "        buttonEl.style.display =\n",
              "          google.colab.kernel.accessAllowed ? 'block' : 'none';\n",
              "\n",
              "        async function convertToInteractive(key) {\n",
              "          const element = document.querySelector('#df-ed26b7a6-680f-4ac4-962e-0d80a148ccb5');\n",
              "          const dataTable =\n",
              "            await google.colab.kernel.invokeFunction('convertToInteractive',\n",
              "                                                     [key], {});\n",
              "          if (!dataTable) return;\n",
              "\n",
              "          const docLinkHtml = 'Like what you see? Visit the ' +\n",
              "            '<a target=\"_blank\" href=https://colab.research.google.com/notebooks/data_table.ipynb>data table notebook</a>'\n",
              "            + ' to learn more about interactive tables.';\n",
              "          element.innerHTML = '';\n",
              "          dataTable['output_type'] = 'display_data';\n",
              "          await google.colab.output.renderOutput(dataTable, element);\n",
              "          const docLink = document.createElement('div');\n",
              "          docLink.innerHTML = docLinkHtml;\n",
              "          element.appendChild(docLink);\n",
              "        }\n",
              "      </script>\n",
              "    </div>\n",
              "  </div>\n",
              "  "
            ],
            "text/plain": [
              "        Date        Open\n",
              "0 2021-12-20  171.510452\n",
              "1 2021-12-21  172.739929\n",
              "2 2021-12-22  175.226471\n",
              "3 2021-12-23  177.435272\n",
              "4 2021-12-27  180.134308"
            ]
          },
          "metadata": {},
          "execution_count": 139
        }
      ]
    },
    {
      "cell_type": "code",
      "source": [
        "# orginal dataframe\n",
        "original = df[['date', 'open']]"
      ],
      "metadata": {
        "id": "zCYB5R0YZBO6"
      },
      "execution_count": 140,
      "outputs": []
    },
    {
      "cell_type": "code",
      "source": [
        "original.head()"
      ],
      "metadata": {
        "colab": {
          "base_uri": "https://localhost:8080/",
          "height": 206
        },
        "id": "fXF6zFpDZYk4",
        "outputId": "7dd16177-31fe-4e9a-afc0-3a55bf382a03"
      },
      "execution_count": 95,
      "outputs": [
        {
          "output_type": "execute_result",
          "data": {
            "text/html": [
              "\n",
              "  <div id=\"df-78b09247-8337-4713-81f7-077b53c31b96\">\n",
              "    <div class=\"colab-df-container\">\n",
              "      <div>\n",
              "<style scoped>\n",
              "    .dataframe tbody tr th:only-of-type {\n",
              "        vertical-align: middle;\n",
              "    }\n",
              "\n",
              "    .dataframe tbody tr th {\n",
              "        vertical-align: top;\n",
              "    }\n",
              "\n",
              "    .dataframe thead th {\n",
              "        text-align: right;\n",
              "    }\n",
              "</style>\n",
              "<table border=\"1\" class=\"dataframe\">\n",
              "  <thead>\n",
              "    <tr style=\"text-align: right;\">\n",
              "      <th></th>\n",
              "      <th>date</th>\n",
              "      <th>open</th>\n",
              "    </tr>\n",
              "  </thead>\n",
              "  <tbody>\n",
              "    <tr>\n",
              "      <th>0</th>\n",
              "      <td>2017-01-13 00:00:00+00:00</td>\n",
              "      <td>119.11</td>\n",
              "    </tr>\n",
              "    <tr>\n",
              "      <th>1</th>\n",
              "      <td>2017-01-17 00:00:00+00:00</td>\n",
              "      <td>118.34</td>\n",
              "    </tr>\n",
              "    <tr>\n",
              "      <th>2</th>\n",
              "      <td>2017-01-18 00:00:00+00:00</td>\n",
              "      <td>120.00</td>\n",
              "    </tr>\n",
              "    <tr>\n",
              "      <th>3</th>\n",
              "      <td>2017-01-19 00:00:00+00:00</td>\n",
              "      <td>119.40</td>\n",
              "    </tr>\n",
              "    <tr>\n",
              "      <th>4</th>\n",
              "      <td>2017-01-20 00:00:00+00:00</td>\n",
              "      <td>120.45</td>\n",
              "    </tr>\n",
              "  </tbody>\n",
              "</table>\n",
              "</div>\n",
              "      <button class=\"colab-df-convert\" onclick=\"convertToInteractive('df-78b09247-8337-4713-81f7-077b53c31b96')\"\n",
              "              title=\"Convert this dataframe to an interactive table.\"\n",
              "              style=\"display:none;\">\n",
              "        \n",
              "  <svg xmlns=\"http://www.w3.org/2000/svg\" height=\"24px\"viewBox=\"0 0 24 24\"\n",
              "       width=\"24px\">\n",
              "    <path d=\"M0 0h24v24H0V0z\" fill=\"none\"/>\n",
              "    <path d=\"M18.56 5.44l.94 2.06.94-2.06 2.06-.94-2.06-.94-.94-2.06-.94 2.06-2.06.94zm-11 1L8.5 8.5l.94-2.06 2.06-.94-2.06-.94L8.5 2.5l-.94 2.06-2.06.94zm10 10l.94 2.06.94-2.06 2.06-.94-2.06-.94-.94-2.06-.94 2.06-2.06.94z\"/><path d=\"M17.41 7.96l-1.37-1.37c-.4-.4-.92-.59-1.43-.59-.52 0-1.04.2-1.43.59L10.3 9.45l-7.72 7.72c-.78.78-.78 2.05 0 2.83L4 21.41c.39.39.9.59 1.41.59.51 0 1.02-.2 1.41-.59l7.78-7.78 2.81-2.81c.8-.78.8-2.07 0-2.86zM5.41 20L4 18.59l7.72-7.72 1.47 1.35L5.41 20z\"/>\n",
              "  </svg>\n",
              "      </button>\n",
              "      \n",
              "  <style>\n",
              "    .colab-df-container {\n",
              "      display:flex;\n",
              "      flex-wrap:wrap;\n",
              "      gap: 12px;\n",
              "    }\n",
              "\n",
              "    .colab-df-convert {\n",
              "      background-color: #E8F0FE;\n",
              "      border: none;\n",
              "      border-radius: 50%;\n",
              "      cursor: pointer;\n",
              "      display: none;\n",
              "      fill: #1967D2;\n",
              "      height: 32px;\n",
              "      padding: 0 0 0 0;\n",
              "      width: 32px;\n",
              "    }\n",
              "\n",
              "    .colab-df-convert:hover {\n",
              "      background-color: #E2EBFA;\n",
              "      box-shadow: 0px 1px 2px rgba(60, 64, 67, 0.3), 0px 1px 3px 1px rgba(60, 64, 67, 0.15);\n",
              "      fill: #174EA6;\n",
              "    }\n",
              "\n",
              "    [theme=dark] .colab-df-convert {\n",
              "      background-color: #3B4455;\n",
              "      fill: #D2E3FC;\n",
              "    }\n",
              "\n",
              "    [theme=dark] .colab-df-convert:hover {\n",
              "      background-color: #434B5C;\n",
              "      box-shadow: 0px 1px 3px 1px rgba(0, 0, 0, 0.15);\n",
              "      filter: drop-shadow(0px 1px 2px rgba(0, 0, 0, 0.3));\n",
              "      fill: #FFFFFF;\n",
              "    }\n",
              "  </style>\n",
              "\n",
              "      <script>\n",
              "        const buttonEl =\n",
              "          document.querySelector('#df-78b09247-8337-4713-81f7-077b53c31b96 button.colab-df-convert');\n",
              "        buttonEl.style.display =\n",
              "          google.colab.kernel.accessAllowed ? 'block' : 'none';\n",
              "\n",
              "        async function convertToInteractive(key) {\n",
              "          const element = document.querySelector('#df-78b09247-8337-4713-81f7-077b53c31b96');\n",
              "          const dataTable =\n",
              "            await google.colab.kernel.invokeFunction('convertToInteractive',\n",
              "                                                     [key], {});\n",
              "          if (!dataTable) return;\n",
              "\n",
              "          const docLinkHtml = 'Like what you see? Visit the ' +\n",
              "            '<a target=\"_blank\" href=https://colab.research.google.com/notebooks/data_table.ipynb>data table notebook</a>'\n",
              "            + ' to learn more about interactive tables.';\n",
              "          element.innerHTML = '';\n",
              "          dataTable['output_type'] = 'display_data';\n",
              "          await google.colab.output.renderOutput(dataTable, element);\n",
              "          const docLink = document.createElement('div');\n",
              "          docLink.innerHTML = docLinkHtml;\n",
              "          element.appendChild(docLink);\n",
              "        }\n",
              "      </script>\n",
              "    </div>\n",
              "  </div>\n",
              "  "
            ],
            "text/plain": [
              "                       date    open\n",
              "0 2017-01-13 00:00:00+00:00  119.11\n",
              "1 2017-01-17 00:00:00+00:00  118.34\n",
              "2 2017-01-18 00:00:00+00:00  120.00\n",
              "3 2017-01-19 00:00:00+00:00  119.40\n",
              "4 2017-01-20 00:00:00+00:00  120.45"
            ]
          },
          "metadata": {},
          "execution_count": 95
        }
      ]
    },
    {
      "cell_type": "code",
      "source": [
        "# plotting\n",
        "original['date']=pd.to_datetime(original['date'])\n",
        "original = original.loc[original['date'] >= '2021-12-20']\n",
        "\n",
        "sns.lineplot(original['date'], original['open'],label=\"orginal\")\n",
        "sns.lineplot(df_forecast['Date'], df_forecast['Open'],label='predicted')\n"
      ],
      "metadata": {
        "colab": {
          "base_uri": "https://localhost:8080/",
          "height": 296
        },
        "id": "xByrjfg2ZdwJ",
        "outputId": "134dd6f7-c942-461e-a16c-b3ce273cd1f0"
      },
      "execution_count": 141,
      "outputs": [
        {
          "output_type": "execute_result",
          "data": {
            "text/plain": [
              "<matplotlib.axes._subplots.AxesSubplot at 0x7f86754c5790>"
            ]
          },
          "metadata": {},
          "execution_count": 141
        },
        {
          "output_type": "display_data",
          "data": {
            "image/png": "[encoded data removed]",
            "text/plain": [
              "<Figure size 432x288 with 1 Axes>"
            ]
          },
          "metadata": {
            "needs_background": "light"
          }
        }
      ]
    },
    {
      "cell_type": "markdown",
      "source": [
        "### Conclusion\n",
        "Model is able to forecast future values not precisly. But i will be able to increase accurate by training for more epochs."
      ],
      "metadata": {
        "id": "BcBddO2v2T3o"
      }
    },
    {
      "cell_type": "code",
      "source": [
        ""
      ],
      "metadata": {
        "id": "yIxSlUrUabHw"
      },
      "execution_count": null,
      "outputs": []
    }
  ]
}